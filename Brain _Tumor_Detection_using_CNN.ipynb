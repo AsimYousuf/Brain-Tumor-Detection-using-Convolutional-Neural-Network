{
 "cells": [
  {
   "cell_type": "code",
   "execution_count": 1,
   "id": "3dc234ef",
   "metadata": {},
   "outputs": [
    {
     "name": "stdout",
     "output_type": "stream",
     "text": [
      "WARNING:tensorflow:From C:\\Users\\bhata\\anaconda3\\Lib\\site-packages\\keras\\src\\losses.py:2976: The name tf.losses.sparse_softmax_cross_entropy is deprecated. Please use tf.compat.v1.losses.sparse_softmax_cross_entropy instead.\n",
      "\n"
     ]
    }
   ],
   "source": [
    "#Importing Dependencies\n",
    "import os\n",
    "import pandas as pd\n",
    "import matplotlib.pyplot as plt\n",
    "import seaborn as sns\n",
    "from sklearn.model_selection import train_test_split\n",
    "from sklearn.metrics import confusion_matrix\n",
    "import tensorflow as tf\n",
    "from tensorflow.keras.preprocessing.image import ImageDataGenerator\n",
    "from tensorflow.keras.layers import Dense, MaxPooling2D, Flatten, Conv2D\n",
    "from tensorflow.keras.models import Sequential\n",
    "from tensorflow.keras.optimizers import Adam\n",
    "import numpy as np\n",
    "import imageio"
   ]
  },
  {
   "cell_type": "code",
   "execution_count": 2,
   "id": "e6759b60",
   "metadata": {},
   "outputs": [],
   "source": [
    "#Data Preprocessing\n",
    "\n",
    "# Calling the requisite Directory\n",
    "data_dir = 'Brain Tumor Data Set\\Brain Tumor Data Set'\n",
    "types = os.listdir(data_dir) # list of the sub folders ['Brain Tumor', 'Healthy']\n",
    "\n",
    "#Coverting the filepaths and labels into into a dataframe \n",
    "file_paths = []\n",
    "labels = []\n",
    "\n",
    "for folder in types:\n",
    "    sub_fold_path = os.path.join(data_dir, folder)  #creates exact location of folder\n",
    "    sub_fold = os.listdir(sub_fold_path)     #lists the path\n",
    "    for pic in sub_fold:\n",
    "        pic_path = os.path.join(sub_fold_path, pic)   #invoking path of each image\n",
    "        file_paths.append(pic_path)      #adding paths of images to filepaths\n",
    "        labels.append(folder)           #label is simply thge folder name\n",
    "\n",
    "f_series = pd.Series(file_paths, name = 'file_paths')    #converting file_paths into column of pandas dataframe\n",
    "l_series = pd.Series(labels, name = 'labels')           #converting labels into column of pandas dataframe\n",
    "df = pd.concat([f_series, l_series], axis =1)           #joining columns into one dataframe"
   ]
  },
  {
   "cell_type": "code",
   "execution_count": 3,
   "id": "6b796fdb",
   "metadata": {},
   "outputs": [
    {
     "data": {
      "text/html": [
       "<div>\n",
       "<style scoped>\n",
       "    .dataframe tbody tr th:only-of-type {\n",
       "        vertical-align: middle;\n",
       "    }\n",
       "\n",
       "    .dataframe tbody tr th {\n",
       "        vertical-align: top;\n",
       "    }\n",
       "\n",
       "    .dataframe thead th {\n",
       "        text-align: right;\n",
       "    }\n",
       "</style>\n",
       "<table border=\"1\" class=\"dataframe\">\n",
       "  <thead>\n",
       "    <tr style=\"text-align: right;\">\n",
       "      <th></th>\n",
       "      <th>file_paths</th>\n",
       "      <th>labels</th>\n",
       "    </tr>\n",
       "  </thead>\n",
       "  <tbody>\n",
       "    <tr>\n",
       "      <th>0</th>\n",
       "      <td>Brain Tumor Data Set\\Brain Tumor Data Set\\Brai...</td>\n",
       "      <td>Brain Tumor</td>\n",
       "    </tr>\n",
       "    <tr>\n",
       "      <th>1</th>\n",
       "      <td>Brain Tumor Data Set\\Brain Tumor Data Set\\Brai...</td>\n",
       "      <td>Brain Tumor</td>\n",
       "    </tr>\n",
       "    <tr>\n",
       "      <th>2</th>\n",
       "      <td>Brain Tumor Data Set\\Brain Tumor Data Set\\Brai...</td>\n",
       "      <td>Brain Tumor</td>\n",
       "    </tr>\n",
       "    <tr>\n",
       "      <th>3</th>\n",
       "      <td>Brain Tumor Data Set\\Brain Tumor Data Set\\Brai...</td>\n",
       "      <td>Brain Tumor</td>\n",
       "    </tr>\n",
       "    <tr>\n",
       "      <th>4</th>\n",
       "      <td>Brain Tumor Data Set\\Brain Tumor Data Set\\Brai...</td>\n",
       "      <td>Brain Tumor</td>\n",
       "    </tr>\n",
       "    <tr>\n",
       "      <th>...</th>\n",
       "      <td>...</td>\n",
       "      <td>...</td>\n",
       "    </tr>\n",
       "    <tr>\n",
       "      <th>4595</th>\n",
       "      <td>Brain Tumor Data Set\\Brain Tumor Data Set\\Heal...</td>\n",
       "      <td>Healthy</td>\n",
       "    </tr>\n",
       "    <tr>\n",
       "      <th>4596</th>\n",
       "      <td>Brain Tumor Data Set\\Brain Tumor Data Set\\Heal...</td>\n",
       "      <td>Healthy</td>\n",
       "    </tr>\n",
       "    <tr>\n",
       "      <th>4597</th>\n",
       "      <td>Brain Tumor Data Set\\Brain Tumor Data Set\\Heal...</td>\n",
       "      <td>Healthy</td>\n",
       "    </tr>\n",
       "    <tr>\n",
       "      <th>4598</th>\n",
       "      <td>Brain Tumor Data Set\\Brain Tumor Data Set\\Heal...</td>\n",
       "      <td>Healthy</td>\n",
       "    </tr>\n",
       "    <tr>\n",
       "      <th>4599</th>\n",
       "      <td>Brain Tumor Data Set\\Brain Tumor Data Set\\Heal...</td>\n",
       "      <td>Healthy</td>\n",
       "    </tr>\n",
       "  </tbody>\n",
       "</table>\n",
       "<p>4600 rows × 2 columns</p>\n",
       "</div>"
      ],
      "text/plain": [
       "                                             file_paths       labels\n",
       "0     Brain Tumor Data Set\\Brain Tumor Data Set\\Brai...  Brain Tumor\n",
       "1     Brain Tumor Data Set\\Brain Tumor Data Set\\Brai...  Brain Tumor\n",
       "2     Brain Tumor Data Set\\Brain Tumor Data Set\\Brai...  Brain Tumor\n",
       "3     Brain Tumor Data Set\\Brain Tumor Data Set\\Brai...  Brain Tumor\n",
       "4     Brain Tumor Data Set\\Brain Tumor Data Set\\Brai...  Brain Tumor\n",
       "...                                                 ...          ...\n",
       "4595  Brain Tumor Data Set\\Brain Tumor Data Set\\Heal...      Healthy\n",
       "4596  Brain Tumor Data Set\\Brain Tumor Data Set\\Heal...      Healthy\n",
       "4597  Brain Tumor Data Set\\Brain Tumor Data Set\\Heal...      Healthy\n",
       "4598  Brain Tumor Data Set\\Brain Tumor Data Set\\Heal...      Healthy\n",
       "4599  Brain Tumor Data Set\\Brain Tumor Data Set\\Heal...      Healthy\n",
       "\n",
       "[4600 rows x 2 columns]"
      ]
     },
     "execution_count": 3,
     "metadata": {},
     "output_type": "execute_result"
    }
   ],
   "source": [
    "df"
   ]
  },
  {
   "cell_type": "code",
   "execution_count": 4,
   "id": "d997d89a",
   "metadata": {},
   "outputs": [],
   "source": [
    "# Splitting data into training testing and validation sets\n",
    "train_df, ts_df = train_test_split(df, test_size=0.2, random_state = 10, stratify=df['labels']) #stratify avoids biased sampling\n",
    "valid_df, test_df = train_test_split(ts_df, test_size=0.5, random_state = 10, stratify=ts_df['labels'])"
   ]
  },
  {
   "cell_type": "code",
   "execution_count": 5,
   "id": "5abe53a4",
   "metadata": {},
   "outputs": [
    {
     "name": "stdout",
     "output_type": "stream",
     "text": [
      "Training Dataframe\n",
      "                                              file_paths       labels\n",
      "1064  Brain Tumor Data Set\\Brain Tumor Data Set\\Brai...  Brain Tumor\n",
      "3318  Brain Tumor Data Set\\Brain Tumor Data Set\\Heal...      Healthy\n",
      "3619  Brain Tumor Data Set\\Brain Tumor Data Set\\Heal...      Healthy\n",
      "807   Brain Tumor Data Set\\Brain Tumor Data Set\\Brai...  Brain Tumor\n",
      "1093  Brain Tumor Data Set\\Brain Tumor Data Set\\Brai...  Brain Tumor\n",
      "...                                                 ...          ...\n",
      "3244  Brain Tumor Data Set\\Brain Tumor Data Set\\Heal...      Healthy\n",
      "1625  Brain Tumor Data Set\\Brain Tumor Data Set\\Brai...  Brain Tumor\n",
      "1370  Brain Tumor Data Set\\Brain Tumor Data Set\\Brai...  Brain Tumor\n",
      "2558  Brain Tumor Data Set\\Brain Tumor Data Set\\Heal...      Healthy\n",
      "2849  Brain Tumor Data Set\\Brain Tumor Data Set\\Heal...      Healthy\n",
      "\n",
      "[3680 rows x 2 columns]\n",
      "\n",
      "\n",
      "Validation Dataframe\n",
      "                                              file_paths       labels\n",
      "1229  Brain Tumor Data Set\\Brain Tumor Data Set\\Brai...  Brain Tumor\n",
      "2461  Brain Tumor Data Set\\Brain Tumor Data Set\\Brai...  Brain Tumor\n",
      "3551  Brain Tumor Data Set\\Brain Tumor Data Set\\Heal...      Healthy\n",
      "3388  Brain Tumor Data Set\\Brain Tumor Data Set\\Heal...      Healthy\n",
      "1387  Brain Tumor Data Set\\Brain Tumor Data Set\\Brai...  Brain Tumor\n",
      "...                                                 ...          ...\n",
      "2028  Brain Tumor Data Set\\Brain Tumor Data Set\\Brai...  Brain Tumor\n",
      "1293  Brain Tumor Data Set\\Brain Tumor Data Set\\Brai...  Brain Tumor\n",
      "2703  Brain Tumor Data Set\\Brain Tumor Data Set\\Heal...      Healthy\n",
      "1694  Brain Tumor Data Set\\Brain Tumor Data Set\\Brai...  Brain Tumor\n",
      "1897  Brain Tumor Data Set\\Brain Tumor Data Set\\Brai...  Brain Tumor\n",
      "\n",
      "[460 rows x 2 columns]\n",
      "\n",
      "\n",
      "Testing Dataframe\n",
      "                                              file_paths       labels\n",
      "2994  Brain Tumor Data Set\\Brain Tumor Data Set\\Heal...      Healthy\n",
      "1780  Brain Tumor Data Set\\Brain Tumor Data Set\\Brai...  Brain Tumor\n",
      "2334  Brain Tumor Data Set\\Brain Tumor Data Set\\Brai...  Brain Tumor\n",
      "4588  Brain Tumor Data Set\\Brain Tumor Data Set\\Heal...      Healthy\n",
      "921   Brain Tumor Data Set\\Brain Tumor Data Set\\Brai...  Brain Tumor\n",
      "...                                                 ...          ...\n",
      "2984  Brain Tumor Data Set\\Brain Tumor Data Set\\Heal...      Healthy\n",
      "4343  Brain Tumor Data Set\\Brain Tumor Data Set\\Heal...      Healthy\n",
      "1296  Brain Tumor Data Set\\Brain Tumor Data Set\\Brai...  Brain Tumor\n",
      "1023  Brain Tumor Data Set\\Brain Tumor Data Set\\Brai...  Brain Tumor\n",
      "656   Brain Tumor Data Set\\Brain Tumor Data Set\\Brai...  Brain Tumor\n",
      "\n",
      "[460 rows x 2 columns]\n"
     ]
    }
   ],
   "source": [
    "print(f'Training Dataframe\\n {train_df}\\n\\n')\n",
    "print(f'Validation Dataframe\\n {valid_df}\\n\\n')\n",
    "print(f'Testing Dataframe\\n {test_df}')"
   ]
  },
  {
   "cell_type": "code",
   "execution_count": 6,
   "id": "a773a33e",
   "metadata": {},
   "outputs": [
    {
     "name": "stdout",
     "output_type": "stream",
     "text": [
      "Found 3680 validated image filenames belonging to 2 classes.\n",
      "Found 460 validated image filenames belonging to 2 classes.\n",
      "Found 460 validated image filenames belonging to 2 classes.\n"
     ]
    }
   ],
   "source": [
    "#Converting the dataframe into a list of images\n",
    "batch_size = 32\n",
    "img_size = (192,192)\n",
    "\n",
    "gen = ImageDataGenerator(rescale=1.0/255)   #Creating an instance of ImageDataGenerator Class and normalizing\n",
    "\n",
    "train_gen = gen.flow_from_dataframe(train_df, x_col='file_paths', y_col='labels', target_size= img_size, \n",
    "                                   class_mode= 'binary', color_mode='rgb', shuffle = True,\n",
    "                                   batch_size= batch_size)\n",
    "\n",
    "valid_gen = gen.flow_from_dataframe(valid_df, x_col='file_paths', y_col='labels',target_size= img_size, \n",
    "                                   class_mode= 'binary', color_mode='rgb', shuffle = True,\n",
    "                                   batch_size= batch_size)\n",
    "\n",
    "test_gen = gen.flow_from_dataframe(test_df, x_col='file_paths', y_col='labels',target_size= img_size, \n",
    "                                   class_mode= 'binary', color_mode='rgb', shuffle = False,\n",
    "                                   batch_size= batch_size)"
   ]
  },
  {
   "cell_type": "code",
   "execution_count": 7,
   "id": "96fb593e",
   "metadata": {},
   "outputs": [
    {
     "name": "stdout",
     "output_type": "stream",
     "text": [
      "WARNING:tensorflow:From C:\\Users\\bhata\\anaconda3\\Lib\\site-packages\\keras\\src\\backend.py:873: The name tf.get_default_graph is deprecated. Please use tf.compat.v1.get_default_graph instead.\n",
      "\n",
      "WARNING:tensorflow:From C:\\Users\\bhata\\anaconda3\\Lib\\site-packages\\keras\\src\\layers\\pooling\\max_pooling2d.py:161: The name tf.nn.max_pool is deprecated. Please use tf.nn.max_pool2d instead.\n",
      "\n",
      "Model: \"sequential\"\n",
      "_________________________________________________________________\n",
      " Layer (type)                Output Shape              Param #   \n",
      "=================================================================\n",
      " conv2d (Conv2D)             (None, 190, 190, 32)      896       \n",
      "                                                                 \n",
      " max_pooling2d (MaxPooling2  (None, 95, 95, 32)        0         \n",
      " D)                                                              \n",
      "                                                                 \n",
      " conv2d_1 (Conv2D)           (None, 93, 93, 64)        18496     \n",
      "                                                                 \n",
      " max_pooling2d_1 (MaxPoolin  (None, 46, 46, 64)        0         \n",
      " g2D)                                                            \n",
      "                                                                 \n",
      " conv2d_2 (Conv2D)           (None, 44, 44, 128)       73856     \n",
      "                                                                 \n",
      " max_pooling2d_2 (MaxPoolin  (None, 22, 22, 128)       0         \n",
      " g2D)                                                            \n",
      "                                                                 \n",
      " flatten (Flatten)           (None, 61952)             0         \n",
      "                                                                 \n",
      " dense (Dense)               (None, 16)                991248    \n",
      "                                                                 \n",
      " dense_1 (Dense)             (None, 2)                 34        \n",
      "                                                                 \n",
      "=================================================================\n",
      "Total params: 1084530 (4.14 MB)\n",
      "Trainable params: 1084530 (4.14 MB)\n",
      "Non-trainable params: 0 (0.00 Byte)\n",
      "_________________________________________________________________\n"
     ]
    }
   ],
   "source": [
    "#Building the model\n",
    "\n",
    "#Define the model\n",
    "model = Sequential()\n",
    "\n",
    "# Add convolutional layers\n",
    "model.add(Conv2D(32, (3, 3), activation='relu', input_shape=(192, 192, 3)))\n",
    "model.add(MaxPooling2D((2, 2)))\n",
    "model.add(Conv2D(64, (3, 3), activation='relu'))\n",
    "model.add(MaxPooling2D((2, 2)))\n",
    "\n",
    "model.add(Conv2D(128, (3, 3), activation='relu'))\n",
    "model.add(MaxPooling2D((2, 2)))\n",
    "\n",
    "# Flatten the output of the convolutional layers\n",
    "model.add(Flatten())\n",
    "\n",
    "# Add dense layers\n",
    "model.add(Dense(16, activation='relu'))\n",
    "\n",
    "# Output layer\n",
    "model.add(Dense(2, activation='softmax'))\n",
    "\n",
    "# Compile the model\n",
    "model.compile(optimizer=Adam(0.002),\n",
    "              loss='sparse_categorical_crossentropy',\n",
    "              metrics=['accuracy'])\n",
    "\n",
    "# Print model summary\n",
    "model.summary()\n"
   ]
  },
  {
   "cell_type": "code",
   "execution_count": 8,
   "id": "6e48b7ab",
   "metadata": {},
   "outputs": [
    {
     "name": "stdout",
     "output_type": "stream",
     "text": [
      "Epoch 1/10\n",
      "WARNING:tensorflow:From C:\\Users\\bhata\\anaconda3\\Lib\\site-packages\\keras\\src\\utils\\tf_utils.py:492: The name tf.ragged.RaggedTensorValue is deprecated. Please use tf.compat.v1.ragged.RaggedTensorValue instead.\n",
      "\n",
      "WARNING:tensorflow:From C:\\Users\\bhata\\anaconda3\\Lib\\site-packages\\keras\\src\\engine\\base_layer_utils.py:384: The name tf.executing_eagerly_outside_functions is deprecated. Please use tf.compat.v1.executing_eagerly_outside_functions instead.\n",
      "\n",
      "115/115 [==============================] - 70s 595ms/step - loss: 0.5494 - accuracy: 0.7223 - val_loss: 0.4276 - val_accuracy: 0.8543\n",
      "Epoch 2/10\n",
      "115/115 [==============================] - 67s 581ms/step - loss: 0.2967 - accuracy: 0.8791 - val_loss: 0.2244 - val_accuracy: 0.9239\n",
      "Epoch 3/10\n",
      "115/115 [==============================] - 67s 585ms/step - loss: 0.1644 - accuracy: 0.9418 - val_loss: 0.1752 - val_accuracy: 0.9543\n",
      "Epoch 4/10\n",
      "115/115 [==============================] - 67s 578ms/step - loss: 0.0702 - accuracy: 0.9764 - val_loss: 0.2292 - val_accuracy: 0.9609\n",
      "Epoch 5/10\n",
      "115/115 [==============================] - 67s 580ms/step - loss: 0.0352 - accuracy: 0.9891 - val_loss: 0.2503 - val_accuracy: 0.9609\n",
      "Epoch 6/10\n",
      "115/115 [==============================] - 67s 578ms/step - loss: 0.0435 - accuracy: 0.9845 - val_loss: 0.2064 - val_accuracy: 0.9587\n",
      "Epoch 7/10\n",
      "115/115 [==============================] - 67s 579ms/step - loss: 0.0186 - accuracy: 0.9946 - val_loss: 0.2918 - val_accuracy: 0.9652\n",
      "Epoch 8/10\n",
      "115/115 [==============================] - 67s 578ms/step - loss: 0.0259 - accuracy: 0.9894 - val_loss: 0.2791 - val_accuracy: 0.9478\n",
      "Epoch 9/10\n",
      "115/115 [==============================] - 67s 580ms/step - loss: 0.0113 - accuracy: 0.9954 - val_loss: 0.3081 - val_accuracy: 0.9565\n",
      "Epoch 10/10\n",
      "115/115 [==============================] - 67s 580ms/step - loss: 0.0163 - accuracy: 0.9943 - val_loss: 0.1546 - val_accuracy: 0.9630\n"
     ]
    }
   ],
   "source": [
    "history = model.fit(train_gen, validation_data = valid_gen, epochs = 10)"
   ]
  },
  {
   "cell_type": "code",
   "execution_count": 9,
   "id": "906dd10f",
   "metadata": {},
   "outputs": [
    {
     "data": {
      "image/png": "[encoded data removed]",
      "text/plain": [
       "<Figure size 640x480 with 1 Axes>"
      ]
     },
     "metadata": {},
     "output_type": "display_data"
    }
   ],
   "source": [
    "#Printing Accuracy\n",
    "fig1 =plt.gcf()  \n",
    "plt.plot(history.history['accuracy'])\n",
    "plt.plot(history.history['val_accuracy'])\n",
    "plt.grid()\n",
    "plt.title('Model Accuracy')\n",
    "plt.ylabel('Accuracy')\n",
    "plt.xlabel('Epochs')\n",
    "plt.legend(['train','validation'])\n",
    "plt.show()"
   ]
  },
  {
   "cell_type": "code",
   "execution_count": 10,
   "id": "d37c0383",
   "metadata": {},
   "outputs": [
    {
     "data": {
      "image/png": "[encoded data removed]",
      "text/plain": [
       "<Figure size 640x480 with 1 Axes>"
      ]
     },
     "metadata": {},
     "output_type": "display_data"
    }
   ],
   "source": [
    "#Printing Loss\n",
    "fig1 =plt.gcf()  #get current figure\n",
    "plt.plot(history.history['loss'])\n",
    "plt.plot(history.history['val_loss'])\n",
    "plt.grid()\n",
    "plt.title('Model Loss')\n",
    "plt.ylabel('Loss')\n",
    "plt.xlabel('Epochs')\n",
    "plt.legend(['train','validation'])\n",
    "plt.show()"
   ]
  },
  {
   "cell_type": "code",
   "execution_count": 11,
   "id": "9355f458",
   "metadata": {},
   "outputs": [
    {
     "name": "stdout",
     "output_type": "stream",
     "text": [
      "15/15 [==============================] - 3s 181ms/step - loss: 0.0969 - accuracy: 0.9717\n",
      "[0.0969492569565773, 0.9717391133308411]\n"
     ]
    }
   ],
   "source": [
    "#Evaluating the model\n",
    "test_evaluation = model.evaluate(test_gen)\n",
    "print(test_evaluation)"
   ]
  },
  {
   "cell_type": "code",
   "execution_count": 12,
   "id": "ab43a0e1",
   "metadata": {},
   "outputs": [
    {
     "name": "stdout",
     "output_type": "stream",
     "text": [
      "15/15 [==============================] - 3s 173ms/step\n"
     ]
    },
    {
     "data": {
      "text/plain": [
       "<tf.Tensor: shape=(10, 2), dtype=int32, numpy=\n",
       "array([[0, 1],\n",
       "       [1, 0],\n",
       "       [0, 1],\n",
       "       [0, 1],\n",
       "       [1, 0],\n",
       "       [0, 1],\n",
       "       [0, 1],\n",
       "       [1, 0],\n",
       "       [1, 0],\n",
       "       [1, 0]])>"
      ]
     },
     "execution_count": 12,
     "metadata": {},
     "output_type": "execute_result"
    }
   ],
   "source": [
    "#Making Predictions using the model\n",
    "pred = model.predict(test_gen)\n",
    "binary_pred = tf.where(tf.constant(pred)>0.5,1,0) # making probabilities into zeroes and 1 using 0.5 threshold\n",
    "binary_pred[:10] #10 rows"
   ]
  },
  {
   "cell_type": "code",
   "execution_count": 13,
   "id": "e3e99e02",
   "metadata": {},
   "outputs": [
    {
     "data": {
      "text/plain": [
       "array([[False,  True],\n",
       "       [ True, False],\n",
       "       [ True, False],\n",
       "       [False,  True],\n",
       "       [ True, False],\n",
       "       [False,  True],\n",
       "       [False,  True],\n",
       "       [ True, False],\n",
       "       [ True, False],\n",
       "       [ True, False]])"
      ]
     },
     "execution_count": 13,
     "metadata": {},
     "output_type": "execute_result"
    }
   ],
   "source": [
    "#Using one hot encoding to get the original test labels\n",
    "one_hot_labels = pd.get_dummies(test_df['labels'])\n",
    "test_labels = one_hot_labels.to_numpy()\n",
    "test_labels[:10]"
   ]
  },
  {
   "cell_type": "code",
   "execution_count": 14,
   "id": "37380af8",
   "metadata": {},
   "outputs": [
    {
     "data": {
      "text/plain": [
       "<tf.Tensor: shape=(2, 2), dtype=int32, numpy=\n",
       "array([[243,   5],\n",
       "       [  8, 204]])>"
      ]
     },
     "execution_count": 14,
     "metadata": {},
     "output_type": "execute_result"
    }
   ],
   "source": [
    "# Confusion Matrix of the data\n",
    "confusion_matrix = tf.math.confusion_matrix(np.argmax(binary_pred, axis =1), np.argmax(test_labels, axis = 1))\n",
    "confusion_matrix"
   ]
  }
 ],
 "metadata": {
  "kernelspec": {
   "display_name": "Python 3 (ipykernel)",
   "language": "python",
   "name": "python3"
  },
  "language_info": {
   "codemirror_mode": {
    "name": "ipython",
    "version": 3
   },
   "file_extension": ".py",
   "mimetype": "text/x-python",
   "name": "python",
   "nbconvert_exporter": "python",
   "pygments_lexer": "ipython3",
   "version": "3.11.5"
  }
 },
 "nbformat": 4,
 "nbformat_minor": 5
}
